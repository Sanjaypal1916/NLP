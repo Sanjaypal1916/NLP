{
 "cells": [
  {
   "cell_type": "code",
   "execution_count": 1,
   "id": "8cb25b43-41be-453c-be58-5a24afdabf01",
   "metadata": {},
   "outputs": [],
   "source": [
    "import spacy "
   ]
  },
  {
   "cell_type": "code",
   "execution_count": 2,
   "id": "3b8f759e-6536-40bf-b0cb-5ab02b116c45",
   "metadata": {},
   "outputs": [],
   "source": [
    "nlp = spacy.load(\"en_core_web_sm\")"
   ]
  },
  {
   "cell_type": "code",
   "execution_count": 3,
   "id": "a5cddd80-9e09-4089-85d4-74c4bd53e065",
   "metadata": {},
   "outputs": [],
   "source": [
    "doc = nlp(\"hye i m snajay what about you ??\")"
   ]
  },
  {
   "cell_type": "code",
   "execution_count": 5,
   "id": "13fbe2f5-f0cb-4690-9a63-bbf71e8c9493",
   "metadata": {},
   "outputs": [
    {
     "name": "stdout",
     "output_type": "stream",
     "text": [
      "hye >>>>>> (96,)\n",
      "i >>>>>> (96,)\n",
      "m >>>>>> (96,)\n",
      "snajay >>>>>> (96,)\n",
      "what >>>>>> (96,)\n",
      "about >>>>>> (96,)\n",
      "you >>>>>> (96,)\n",
      "? >>>>>> (96,)\n",
      "? >>>>>> (96,)\n"
     ]
    }
   ],
   "source": [
    "for token in doc:\n",
    "    print(token , \">>>>>>\", token.vector.shape)"
   ]
  },
  {
   "cell_type": "code",
   "execution_count": 6,
   "id": "6d4d6e57-374f-4f9a-8fd8-de75b6f511fc",
   "metadata": {},
   "outputs": [
    {
     "data": {
      "text/plain": [
       "(96,)"
      ]
     },
     "execution_count": 6,
     "metadata": {},
     "output_type": "execute_result"
    }
   ],
   "source": [
    "base_token = nlp(\"bread\")\n",
    "base_token.vector.shape"
   ]
  },
  {
   "cell_type": "code",
   "execution_count": 8,
   "id": "3257a1f2-dd67-4ed1-a911-d23075b1a461",
   "metadata": {},
   "outputs": [
    {
     "name": "stdout",
     "output_type": "stream",
     "text": [
      "bread  >>>>>>>>  bread  >>>>>>>>  1.0\n",
      "sandwich  >>>>>>>>  bread  >>>>>>>>  0.26677175290569444\n",
      "burger  >>>>>>>>  bread  >>>>>>>>  0.2403758463416168\n",
      "car  >>>>>>>>  bread  >>>>>>>>  0.21232416060990508\n",
      "tiger  >>>>>>>>  bread  >>>>>>>>  0.416205187946548\n",
      "human  >>>>>>>>  bread  >>>>>>>>  0.17155441719759282\n",
      "wheat  >>>>>>>>  bread  >>>>>>>>  0.6217515964505436\n"
     ]
    },
    {
     "name": "stderr",
     "output_type": "stream",
     "text": [
      "C:\\Users\\sanjay\\AppData\\Local\\Temp\\ipykernel_9864\\1535268447.py:3: UserWarning: [W007] The model you're using has no word vectors loaded, so the result of the Doc.similarity method will be based on the tagger, parser and NER, which may not give useful similarity judgements. This may happen if you're using one of the small models, e.g. `en_core_web_sm`, which don't ship with word vectors and only use context-sensitive tensors. You can always add your own word vectors, or use one of the larger models instead if available.\n",
      "  print(token, \" >>>>>>>> \", base_token.text, \" >>>>>>>> \", base_token.similarity(token))\n"
     ]
    }
   ],
   "source": [
    "doc = nlp(\"bread sandwich burger car tiger human wheat\")\n",
    "for token in doc:\n",
    "    print(token, \" >>>>>>>> \", base_token.text, \" >>>>>>>> \", base_token.similarity(token))\n"
   ]
  },
  {
   "cell_type": "code",
   "execution_count": 15,
   "id": "1edcda1a-3986-4d7b-ba89-d85f08a68f6c",
   "metadata": {},
   "outputs": [
    {
     "ename": "IndentationError",
     "evalue": "unexpected indent (1515164939.py, line 5)",
     "output_type": "error",
     "traceback": [
      "\u001b[1;36m  Cell \u001b[1;32mIn[15], line 5\u001b[1;36m\u001b[0m\n\u001b[1;33m    for this you need \"en_core_web_lg\"\u001b[0m\n\u001b[1;37m    ^\u001b[0m\n\u001b[1;31mIndentationError\u001b[0m\u001b[1;31m:\u001b[0m unexpected indent\n"
     ]
    }
   ],
   "source": [
    "king = nlp.vocab[\"king\"].vector\n",
    "man = nlp.vocab[\"man\"].vector\n",
    "woman = nlp.vocab[\"woman\"].vector\n",
    "queen = nlp.vocab[\"queen\"].vector\n",
    "                                                                                # for this you need \"en_core_web_lg\"\n",
    "result = king - man + woman"
   ]
  },
  {
   "cell_type": "code",
   "execution_count": 19,
   "id": "49005421-a461-469f-8ed6-db9624db1092",
   "metadata": {},
   "outputs": [
    {
     "data": {
      "text/plain": [
       "array([[0.62175155]], dtype=float32)"
      ]
     },
     "execution_count": 19,
     "metadata": {},
     "output_type": "execute_result"
    }
   ],
   "source": [
    "from sklearn.metrics.pairwise import cosine_similarity\n",
    "\n",
    "cosine_similarity([base_token.vector], [token.vector])"
   ]
  },
  {
   "cell_type": "code",
   "execution_count": null,
   "id": "0c448314-7684-4417-a937-eaa61905abb6",
   "metadata": {},
   "outputs": [],
   "source": []
  }
 ],
 "metadata": {
  "kernelspec": {
   "display_name": "Python 3 (ipykernel)",
   "language": "python",
   "name": "python3"
  },
  "language_info": {
   "codemirror_mode": {
    "name": "ipython",
    "version": 3
   },
   "file_extension": ".py",
   "mimetype": "text/x-python",
   "name": "python",
   "nbconvert_exporter": "python",
   "pygments_lexer": "ipython3",
   "version": "3.10.16"
  }
 },
 "nbformat": 4,
 "nbformat_minor": 5
}

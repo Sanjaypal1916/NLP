{
 "cells": [
  {
   "cell_type": "code",
   "execution_count": 1,
   "id": "d9d5dfb0-9600-4c30-bfa5-c0331b0c7a3b",
   "metadata": {},
   "outputs": [],
   "source": [
    "import spacy "
   ]
  },
  {
   "cell_type": "code",
   "execution_count": 2,
   "id": "53d750d3-e2df-4d0f-9b91-d8bccc73c8be",
   "metadata": {},
   "outputs": [],
   "source": [
    "from spacy.lang.en.stop_words import STOP_WORDS"
   ]
  },
  {
   "cell_type": "code",
   "execution_count": 4,
   "id": "5b865c7d-dec6-4958-b391-bd9cafebaa4f",
   "metadata": {},
   "outputs": [
    {
     "data": {
      "text/plain": [
       "326"
      ]
     },
     "execution_count": 4,
     "metadata": {},
     "output_type": "execute_result"
    }
   ],
   "source": [
    "len(STOP_WORDS)"
   ]
  },
  {
   "cell_type": "code",
   "execution_count": 5,
   "id": "2946a8d6-83c1-4021-b65a-bf0acc9268c8",
   "metadata": {},
   "outputs": [],
   "source": [
    "nlp = spacy.load(\"en_core_web_sm\")\n",
    "\n",
    "doc = nlp(\"We just opened our wings, the flying part is coming soon\")"
   ]
  },
  {
   "cell_type": "code",
   "execution_count": 12,
   "id": "00e181b1-1ec4-4e4a-a583-a559eb21b540",
   "metadata": {},
   "outputs": [],
   "source": [
    "stopwords=[]\n",
    "lemm = []\n",
    "for token in doc:\n",
    "    \n",
    "    if token.is_stop or token.is_punct:\n",
    "        stopwords.append(token)\n",
    "        continue\n",
    "    else:\n",
    "        lemm.append(token.lemma_)\n",
    "    "
   ]
  },
  {
   "cell_type": "code",
   "execution_count": 13,
   "id": "62515b51-1c99-4c45-8c80-cc3e23faff53",
   "metadata": {},
   "outputs": [
    {
     "data": {
      "text/plain": [
       "[We, just, our, ,, the, part, is]"
      ]
     },
     "execution_count": 13,
     "metadata": {},
     "output_type": "execute_result"
    }
   ],
   "source": [
    "stopwords"
   ]
  },
  {
   "cell_type": "code",
   "execution_count": 14,
   "id": "692d4630-b65b-4830-9bfe-06cc1996b142",
   "metadata": {},
   "outputs": [
    {
     "data": {
      "text/plain": [
       "['open', 'wing', 'fly', 'come', 'soon']"
      ]
     },
     "execution_count": 14,
     "metadata": {},
     "output_type": "execute_result"
    }
   ],
   "source": [
    "lemm"
   ]
  },
  {
   "cell_type": "code",
   "execution_count": null,
   "id": "e115c2d9-6998-4477-aa16-5caba2fd7c33",
   "metadata": {},
   "outputs": [],
   "source": []
  }
 ],
 "metadata": {
  "kernelspec": {
   "display_name": "Python 3 (ipykernel)",
   "language": "python",
   "name": "python3"
  },
  "language_info": {
   "codemirror_mode": {
    "name": "ipython",
    "version": 3
   },
   "file_extension": ".py",
   "mimetype": "text/x-python",
   "name": "python",
   "nbconvert_exporter": "python",
   "pygments_lexer": "ipython3",
   "version": "3.10.16"
  }
 },
 "nbformat": 4,
 "nbformat_minor": 5
}

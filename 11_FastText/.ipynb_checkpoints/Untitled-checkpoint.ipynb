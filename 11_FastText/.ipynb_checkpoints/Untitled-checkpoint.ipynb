{
 "cells": [
  {
   "cell_type": "code",
   "execution_count": 1,
   "id": "5a755ba0-1387-41a1-bf22-a65508348d9d",
   "metadata": {},
   "outputs": [],
   "source": [
    "import fasttext"
   ]
  },
  {
   "cell_type": "code",
   "execution_count": 3,
   "id": "5a8997d1-6877-40aa-bffe-fb04e2ab127f",
   "metadata": {},
   "outputs": [],
   "source": [
    "model = fasttext.load_model(\"C:\\\\Users\\\\sanjay\\\\Desktop\\\\AI ML\\\\Extra_packages\\\\FastText\\\\cc.en.300.bin\\\\cc.en.300.bin\")"
   ]
  },
  {
   "cell_type": "code",
   "execution_count": 4,
   "id": "046491ea-1627-44d6-8984-31fba7573660",
   "metadata": {},
   "outputs": [
    {
     "data": {
      "text/plain": [
       "['__class__',\n",
       " '__contains__',\n",
       " '__delattr__',\n",
       " '__dict__',\n",
       " '__dir__',\n",
       " '__doc__',\n",
       " '__eq__',\n",
       " '__format__',\n",
       " '__ge__',\n",
       " '__getattribute__',\n",
       " '__getitem__',\n",
       " '__gt__',\n",
       " '__hash__',\n",
       " '__init__',\n",
       " '__init_subclass__',\n",
       " '__le__',\n",
       " '__lt__',\n",
       " '__module__',\n",
       " '__ne__',\n",
       " '__new__',\n",
       " '__reduce__',\n",
       " '__reduce_ex__',\n",
       " '__repr__',\n",
       " '__setattr__',\n",
       " '__sizeof__',\n",
       " '__str__',\n",
       " '__subclasshook__',\n",
       " '__weakref__',\n",
       " '_labels',\n",
       " '_words',\n",
       " 'f',\n",
       " 'get_analogies',\n",
       " 'get_dimension',\n",
       " 'get_input_matrix',\n",
       " 'get_input_vector',\n",
       " 'get_label_id',\n",
       " 'get_labels',\n",
       " 'get_line',\n",
       " 'get_meter',\n",
       " 'get_nearest_neighbors',\n",
       " 'get_output_matrix',\n",
       " 'get_sentence_vector',\n",
       " 'get_subword_id',\n",
       " 'get_subwords',\n",
       " 'get_word_id',\n",
       " 'get_word_vector',\n",
       " 'get_words',\n",
       " 'is_quantized',\n",
       " 'labels',\n",
       " 'predict',\n",
       " 'quantize',\n",
       " 'save_model',\n",
       " 'set_args',\n",
       " 'set_matrices',\n",
       " 'test',\n",
       " 'test_label',\n",
       " 'words']"
      ]
     },
     "execution_count": 4,
     "metadata": {},
     "output_type": "execute_result"
    }
   ],
   "source": [
    "dir(model)"
   ]
  },
  {
   "cell_type": "code",
   "execution_count": 7,
   "id": "4dddc9c5-3b81-4896-887b-50fb36259c06",
   "metadata": {},
   "outputs": [
    {
     "data": {
      "text/plain": [
       "[(0.7904364466667175, 'WORSE'),\n",
       " (0.764029860496521, 'worser'),\n",
       " (0.7272142767906189, 'worse.But'),\n",
       " (0.7190726399421692, 'worse.So'),\n",
       " (0.7017995715141296, 'better'),\n",
       " (0.6999523639678955, 'worse.That'),\n",
       " (0.6959966421127319, 'worse.It'),\n",
       " (0.6951110363006592, 'worse.What'),\n",
       " (0.6941636800765991, 'worse.In'),\n",
       " (0.688237726688385, 'worse.This')]"
      ]
     },
     "execution_count": 7,
     "metadata": {},
     "output_type": "execute_result"
    }
   ],
   "source": [
    "model.get_nearest_neighbors(\"worse\")"
   ]
  },
  {
   "cell_type": "code",
   "execution_count": 9,
   "id": "15dd7b77-a014-4238-8d33-22692bc6a418",
   "metadata": {},
   "outputs": [
    {
     "data": {
      "text/plain": [
       "[(0.7148876190185547, 'delhi'),\n",
       " (0.6974374055862427, 'mumbai'),\n",
       " (0.648612916469574, 'jaipur'),\n",
       " (0.6349966526031494, 'kolkata'),\n",
       " (0.6279922723770142, 'pune'),\n",
       " (0.6277596354484558, 'bangalore'),\n",
       " (0.6044078469276428, 'hyderabad'),\n",
       " (0.6021745800971985, 'noida'),\n",
       " (0.6018899083137512, 'bhubaneswar'),\n",
       " (0.599077582359314, 'nashik')]"
      ]
     },
     "execution_count": 9,
     "metadata": {},
     "output_type": "execute_result"
    }
   ],
   "source": [
    "model.get_analogies(\"berlin\",\"germany\",\"india\")"
   ]
  },
  {
   "cell_type": "code",
   "execution_count": 12,
   "id": "71e2950f-fa4c-4feb-a7f4-7fd2e60b0efb",
   "metadata": {},
   "outputs": [
    {
     "data": {
      "text/plain": [
       "(300,)"
      ]
     },
     "execution_count": 12,
     "metadata": {},
     "output_type": "execute_result"
    }
   ],
   "source": [
    "model.get_word_vector(\"good\").shape"
   ]
  },
  {
   "cell_type": "code",
   "execution_count": 14,
   "id": "20119b8f-4cdb-4bf5-a8e3-9a17a5f72d10",
   "metadata": {},
   "outputs": [],
   "source": [
    "import re\n",
    "txt = \"To begin making the Masala Karela Recipe de seed the karela and slice \\nDo not remove the skin as the skin has all the nutrients \\nAdd the karela to the pressure cooker with 3 tablespoon of water  salt and turmeric powder and pressure cook for three whistles \\nRelease the pressure immediately and open the lids \\nKeep aside Heat oil in a heavy bottomed pan or a kadhai \\nAdd cumin seeds and let it sizzle Once the cumin seeds have sizzled  add onions and saute them till it turns golden brown in color Add the karela  red chilli powder  amchur powder  coriander powder and besan \\nStir to combine the masalas into the karela Drizzle a little extra oil on the top and mix again \\nCover the pan and simmer Masala Karela stirring occasionally until everything comes together well \\nTurn off the heat Transfer Masala Karela into a serving bowl and serve Serve Masala Karela along with Panchmel Dal and Phulka for a weekday meal with your family \\n\""
   ]
  },
  {
   "cell_type": "code",
   "execution_count": 26,
   "id": "ceac0f05-59b3-4bc2-becd-c4a212081730",
   "metadata": {},
   "outputs": [],
   "source": [
    "def k(text):\n",
    "    text = text.replace('\\n', ' ')\n",
    "    text = re.sub(r\"[^\\w\\s']\", \" \", text)\n",
    "    text = re.sub(r'\\s+', ' ', text)\n",
    "    return text.strip().lower()"
   ]
  },
  {
   "cell_type": "code",
   "execution_count": 27,
   "id": "818659ba-017d-42cd-9cdb-6274fcbcbe4b",
   "metadata": {},
   "outputs": [],
   "source": [
    "text = k(txt)"
   ]
  },
  {
   "cell_type": "code",
   "execution_count": 28,
   "id": "e9b98e29-e5d9-42d9-aa75-bab517768911",
   "metadata": {},
   "outputs": [
    {
     "data": {
      "text/plain": [
       "'to begin making the masala karela recipe de seed the karela and slice do not remove the skin as the skin has all the nutrients add the karela to the pressure cooker with 3 tablespoon of water salt and turmeric powder and pressure cook for three whistles release the pressure immediately and open the lids keep aside heat oil in a heavy bottomed pan or a kadhai add cumin seeds and let it sizzle once the cumin seeds have sizzled add onions and saute them till it turns golden brown in color add the karela red chilli powder amchur powder coriander powder and besan stir to combine the masalas into the karela drizzle a little extra oil on the top and mix again cover the pan and simmer masala karela stirring occasionally until everything comes together well turn off the heat transfer masala karela into a serving bowl and serve serve masala karela along with panchmel dal and phulka for a weekday meal with your family'"
      ]
     },
     "execution_count": 28,
     "metadata": {},
     "output_type": "execute_result"
    }
   ],
   "source": [
    "text"
   ]
  },
  {
   "cell_type": "code",
   "execution_count": 29,
   "id": "8b9bd121-9532-49a7-8fa7-ec8c0418fbf4",
   "metadata": {},
   "outputs": [],
   "source": [
    "import pandas as pd\n",
    "import numpy as np \n"
   ]
  },
  {
   "cell_type": "code",
   "execution_count": 30,
   "id": "72119fe2-329f-485c-8de1-912dde86f4c8",
   "metadata": {},
   "outputs": [
    {
     "data": {
      "text/html": [
       "<div>\n",
       "<style scoped>\n",
       "    .dataframe tbody tr th:only-of-type {\n",
       "        vertical-align: middle;\n",
       "    }\n",
       "\n",
       "    .dataframe tbody tr th {\n",
       "        vertical-align: top;\n",
       "    }\n",
       "\n",
       "    .dataframe thead th {\n",
       "        text-align: right;\n",
       "    }\n",
       "</style>\n",
       "<table border=\"1\" class=\"dataframe\">\n",
       "  <thead>\n",
       "    <tr style=\"text-align: right;\">\n",
       "      <th></th>\n",
       "      <th>TranslatedRecipeName</th>\n",
       "      <th>TranslatedIngredients</th>\n",
       "      <th>TotalTimeInMins</th>\n",
       "      <th>Cuisine</th>\n",
       "      <th>TranslatedInstructions</th>\n",
       "      <th>URL</th>\n",
       "      <th>Cleaned-Ingredients</th>\n",
       "      <th>image-url</th>\n",
       "      <th>Ingredient-count</th>\n",
       "    </tr>\n",
       "  </thead>\n",
       "  <tbody>\n",
       "    <tr>\n",
       "      <th>0</th>\n",
       "      <td>Masala Karela Recipe</td>\n",
       "      <td>1 tablespoon Red Chilli powder,3 tablespoon Gr...</td>\n",
       "      <td>45</td>\n",
       "      <td>Indian</td>\n",
       "      <td>To begin making the Masala Karela Recipe,de-se...</td>\n",
       "      <td>https://www.archanaskitchen.com/masala-karela-...</td>\n",
       "      <td>salt,amchur (dry mango powder),karela (bitter ...</td>\n",
       "      <td>https://www.archanaskitchen.com/images/archana...</td>\n",
       "      <td>10</td>\n",
       "    </tr>\n",
       "    <tr>\n",
       "      <th>1</th>\n",
       "      <td>Spicy Tomato Rice (Recipe)</td>\n",
       "      <td>2 teaspoon cashew - or peanuts, 1/2 Teaspoon ...</td>\n",
       "      <td>15</td>\n",
       "      <td>South Indian Recipes</td>\n",
       "      <td>To make tomato puliogere, first cut the tomato...</td>\n",
       "      <td>https://www.archanaskitchen.com/spicy-tomato-r...</td>\n",
       "      <td>tomato,salt,chickpea lentils,green chilli,rice...</td>\n",
       "      <td>https://www.archanaskitchen.com/images/archana...</td>\n",
       "      <td>12</td>\n",
       "    </tr>\n",
       "    <tr>\n",
       "      <th>2</th>\n",
       "      <td>Ragi Semiya Upma Recipe - Ragi Millet Vermicel...</td>\n",
       "      <td>1 Onion - sliced,1 teaspoon White Urad Dal (Sp...</td>\n",
       "      <td>50</td>\n",
       "      <td>South Indian Recipes</td>\n",
       "      <td>To begin making the Ragi Vermicelli Recipe, fi...</td>\n",
       "      <td>https://www.archanaskitchen.com/ragi-vermicell...</td>\n",
       "      <td>salt,rice vermicelli noodles (thin),asafoetida...</td>\n",
       "      <td>https://www.archanaskitchen.com/images/archana...</td>\n",
       "      <td>12</td>\n",
       "    </tr>\n",
       "    <tr>\n",
       "      <th>3</th>\n",
       "      <td>Gongura Chicken Curry Recipe - Andhra Style Go...</td>\n",
       "      <td>1/2 teaspoon Turmeric powder (Haldi),1 tablesp...</td>\n",
       "      <td>45</td>\n",
       "      <td>Andhra</td>\n",
       "      <td>To begin making Gongura Chicken Curry Recipe f...</td>\n",
       "      <td>https://www.archanaskitchen.com/gongura-chicke...</td>\n",
       "      <td>tomato,salt,ginger,sorrel leaves (gongura),fen...</td>\n",
       "      <td>https://www.archanaskitchen.com/images/archana...</td>\n",
       "      <td>15</td>\n",
       "    </tr>\n",
       "    <tr>\n",
       "      <th>4</th>\n",
       "      <td>Andhra Style Alam Pachadi Recipe - Adrak Chutn...</td>\n",
       "      <td>oil - as per use, 1 tablespoon coriander seed...</td>\n",
       "      <td>30</td>\n",
       "      <td>Andhra</td>\n",
       "      <td>To make Andhra Style Alam Pachadi, first heat ...</td>\n",
       "      <td>https://www.archanaskitchen.com/andhra-style-a...</td>\n",
       "      <td>tomato,salt,ginger,red chillies,curry,asafoeti...</td>\n",
       "      <td>https://www.archanaskitchen.com/images/archana...</td>\n",
       "      <td>12</td>\n",
       "    </tr>\n",
       "  </tbody>\n",
       "</table>\n",
       "</div>"
      ],
      "text/plain": [
       "                                TranslatedRecipeName  \\\n",
       "0                               Masala Karela Recipe   \n",
       "1                         Spicy Tomato Rice (Recipe)   \n",
       "2  Ragi Semiya Upma Recipe - Ragi Millet Vermicel...   \n",
       "3  Gongura Chicken Curry Recipe - Andhra Style Go...   \n",
       "4  Andhra Style Alam Pachadi Recipe - Adrak Chutn...   \n",
       "\n",
       "                               TranslatedIngredients  TotalTimeInMins  \\\n",
       "0  1 tablespoon Red Chilli powder,3 tablespoon Gr...               45   \n",
       "1   2 teaspoon cashew - or peanuts, 1/2 Teaspoon ...               15   \n",
       "2  1 Onion - sliced,1 teaspoon White Urad Dal (Sp...               50   \n",
       "3  1/2 teaspoon Turmeric powder (Haldi),1 tablesp...               45   \n",
       "4   oil - as per use, 1 tablespoon coriander seed...               30   \n",
       "\n",
       "                Cuisine                             TranslatedInstructions  \\\n",
       "0                Indian  To begin making the Masala Karela Recipe,de-se...   \n",
       "1  South Indian Recipes  To make tomato puliogere, first cut the tomato...   \n",
       "2  South Indian Recipes  To begin making the Ragi Vermicelli Recipe, fi...   \n",
       "3                Andhra  To begin making Gongura Chicken Curry Recipe f...   \n",
       "4                Andhra  To make Andhra Style Alam Pachadi, first heat ...   \n",
       "\n",
       "                                                 URL  \\\n",
       "0  https://www.archanaskitchen.com/masala-karela-...   \n",
       "1  https://www.archanaskitchen.com/spicy-tomato-r...   \n",
       "2  https://www.archanaskitchen.com/ragi-vermicell...   \n",
       "3  https://www.archanaskitchen.com/gongura-chicke...   \n",
       "4  https://www.archanaskitchen.com/andhra-style-a...   \n",
       "\n",
       "                                 Cleaned-Ingredients  \\\n",
       "0  salt,amchur (dry mango powder),karela (bitter ...   \n",
       "1  tomato,salt,chickpea lentils,green chilli,rice...   \n",
       "2  salt,rice vermicelli noodles (thin),asafoetida...   \n",
       "3  tomato,salt,ginger,sorrel leaves (gongura),fen...   \n",
       "4  tomato,salt,ginger,red chillies,curry,asafoeti...   \n",
       "\n",
       "                                           image-url  Ingredient-count  \n",
       "0  https://www.archanaskitchen.com/images/archana...                10  \n",
       "1  https://www.archanaskitchen.com/images/archana...                12  \n",
       "2  https://www.archanaskitchen.com/images/archana...                12  \n",
       "3  https://www.archanaskitchen.com/images/archana...                15  \n",
       "4  https://www.archanaskitchen.com/images/archana...                12  "
      ]
     },
     "execution_count": 30,
     "metadata": {},
     "output_type": "execute_result"
    }
   ],
   "source": [
    "df = pd.read_csv(\"C:\\\\Users\\\\sanjay\\\\Desktop\\\\AI ML\\\\Extra_packages\\\\Cleaned_Indian_Food_Dataset.csv\")\n",
    "df.head(5)"
   ]
  },
  {
   "cell_type": "code",
   "execution_count": 31,
   "id": "4beee5d3-dfca-4888-bef6-ad2a5bc328a5",
   "metadata": {},
   "outputs": [],
   "source": [
    "df =df.TranslatedInstructions"
   ]
  },
  {
   "cell_type": "code",
   "execution_count": 33,
   "id": "d83730c2-6de3-4964-859b-8f0eb7689934",
   "metadata": {},
   "outputs": [],
   "source": [
    "df = df.apply(k)"
   ]
  },
  {
   "cell_type": "code",
   "execution_count": 34,
   "id": "d9c2aebf-cf5f-43f9-9e58-147da5abb3db",
   "metadata": {},
   "outputs": [
    {
     "data": {
      "text/plain": [
       "0       to begin making the masala karela recipe de se...\n",
       "1       to make tomato puliogere first cut the tomatoe...\n",
       "2       to begin making the ragi vermicelli recipe fir...\n",
       "3       to begin making gongura chicken curry recipe f...\n",
       "4       to make andhra style alam pachadi first heat o...\n",
       "                              ...                        \n",
       "5933    to begin making the saffron paneer peda recipe...\n",
       "5934    to begin making the italian arancini rice ball...\n",
       "5935    to begin making quinoa phirnee recipe place a ...\n",
       "5936    to begin making ullikadala pulusu recipe sprin...\n",
       "5937    to begin making the kashmiri kokur yakhni reci...\n",
       "Name: TranslatedInstructions, Length: 5938, dtype: object"
      ]
     },
     "execution_count": 34,
     "metadata": {},
     "output_type": "execute_result"
    }
   ],
   "source": [
    "df"
   ]
  },
  {
   "cell_type": "code",
   "execution_count": 35,
   "id": "b8f3ddfb-be78-4bc3-b456-7fd6626f7919",
   "metadata": {},
   "outputs": [],
   "source": [
    "df.to_csv(\"recipe.txt\", columns=[\"TranslatedInstructions\"], header=None, index=None)"
   ]
  },
  {
   "cell_type": "code",
   "execution_count": null,
   "id": "3778305f-ea15-412f-a187-565bd2c045fc",
   "metadata": {},
   "outputs": [],
   "source": []
  },
  {
   "cell_type": "code",
   "execution_count": 38,
   "id": "8bb5d2f0-f92d-4092-8c0d-07727addec48",
   "metadata": {},
   "outputs": [],
   "source": [
    "model = fasttext.train_unsupervised(\"recipe.txt\")"
   ]
  },
  {
   "cell_type": "code",
   "execution_count": 39,
   "id": "ca2e3a85-6353-435d-82b8-61a7bb583ae5",
   "metadata": {},
   "outputs": [
    {
     "data": {
      "text/plain": [
       "['BOW',\n",
       " 'EOS',\n",
       " 'EOW',\n",
       " 'FastText',\n",
       " '__builtins__',\n",
       " '__cached__',\n",
       " '__doc__',\n",
       " '__file__',\n",
       " '__loader__',\n",
       " '__name__',\n",
       " '__package__',\n",
       " '__path__',\n",
       " '__spec__',\n",
       " 'absolute_import',\n",
       " 'cbow',\n",
       " 'division',\n",
       " 'load_model',\n",
       " 'print_function',\n",
       " 'skipgram',\n",
       " 'supervised',\n",
       " 'tokenize',\n",
       " 'train_supervised',\n",
       " 'train_unsupervised',\n",
       " 'unicode_literals']"
      ]
     },
     "execution_count": 39,
     "metadata": {},
     "output_type": "execute_result"
    }
   ],
   "source": [
    "dir(fasttext)"
   ]
  },
  {
   "cell_type": "code",
   "execution_count": 40,
   "id": "23dca6fa-1fa2-4f48-a5eb-f603ba760f77",
   "metadata": {},
   "outputs": [
    {
     "data": {
      "text/plain": [
       "[(0.6085779070854187, 'satay'),\n",
       " (0.6067437529563904, 'makhanwala'),\n",
       " (0.599021315574646, 'bhurji'),\n",
       " (0.5878568291664124, 'tikka'),\n",
       " (0.5861340761184692, 'tandoori'),\n",
       " (0.5764386653900146, 'gulgule'),\n",
       " (0.568992018699646, 'makhane'),\n",
       " (0.5679978728294373, 'hariyali'),\n",
       " (0.5664525032043457, 'matar'),\n",
       " (0.5632894039154053, 'shashlik')]"
      ]
     },
     "execution_count": 40,
     "metadata": {},
     "output_type": "execute_result"
    }
   ],
   "source": [
    "model.get_nearest_neighbors(\"paneer\")"
   ]
  },
  {
   "cell_type": "code",
   "execution_count": 42,
   "id": "4fe0654d-6050-444b-8845-9a7750c86904",
   "metadata": {},
   "outputs": [
    {
     "data": {
      "text/plain": [
       "(100,)"
      ]
     },
     "execution_count": 42,
     "metadata": {},
     "output_type": "execute_result"
    }
   ],
   "source": [
    "model.get_word_vector(\"dosa\").shape"
   ]
  },
  {
   "cell_type": "code",
   "execution_count": null,
   "id": "ab4ababa-ba70-41fe-b6e0-8b481b0ade28",
   "metadata": {},
   "outputs": [],
   "source": []
  }
 ],
 "metadata": {
  "kernelspec": {
   "display_name": "Python 3 (ipykernel)",
   "language": "python",
   "name": "python3"
  },
  "language_info": {
   "codemirror_mode": {
    "name": "ipython",
    "version": 3
   },
   "file_extension": ".py",
   "mimetype": "text/x-python",
   "name": "python",
   "nbconvert_exporter": "python",
   "pygments_lexer": "ipython3",
   "version": "3.10.16"
  }
 },
 "nbformat": 4,
 "nbformat_minor": 5
}

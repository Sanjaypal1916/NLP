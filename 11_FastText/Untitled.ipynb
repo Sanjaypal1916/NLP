{
 "cells": [
  {
   "cell_type": "code",
   "execution_count": 1,
   "id": "bdb41a1b-4145-486c-9ada-9160be16b2ee",
   "metadata": {},
   "outputs": [],
   "source": [
    "import numpy as np \n",
    "import pandas as pd\n",
    "from sklearn.model_selection import train_test_split\n",
    "import fasttext"
   ]
  },
  {
   "cell_type": "code",
   "execution_count": 2,
   "id": "d8dc5e44-a15d-4a80-971c-0ece7536336d",
   "metadata": {},
   "outputs": [],
   "source": [
    "df = pd.read_csv(\"C:\\\\Users\\\\sanjay\\\\Desktop\\\\AI ML\\\\Extra_packages\\\\ecommerceDataset.csv\")"
   ]
  },
  {
   "cell_type": "code",
   "execution_count": 3,
   "id": "147f9b22-382e-4360-8eb7-2e9ba3983d2e",
   "metadata": {},
   "outputs": [],
   "source": [
    "df.columns = [\"label\", \"text\"]"
   ]
  },
  {
   "cell_type": "code",
   "execution_count": 4,
   "id": "c9d62d48-1ed3-49a3-8d5e-b584dbdf7beb",
   "metadata": {},
   "outputs": [
    {
     "data": {
      "text/plain": [
       "label\n",
       "Household                 19312\n",
       "Books                     11820\n",
       "Electronics               10621\n",
       "Clothing & Accessories     8671\n",
       "Name: count, dtype: int64"
      ]
     },
     "execution_count": 4,
     "metadata": {},
     "output_type": "execute_result"
    }
   ],
   "source": [
    "df.label.value_counts()"
   ]
  },
  {
   "cell_type": "code",
   "execution_count": 5,
   "id": "e1b36a1b-1184-49f7-928d-c2e8552218ff",
   "metadata": {},
   "outputs": [
    {
     "data": {
      "text/html": [
       "<div>\n",
       "<style scoped>\n",
       "    .dataframe tbody tr th:only-of-type {\n",
       "        vertical-align: middle;\n",
       "    }\n",
       "\n",
       "    .dataframe tbody tr th {\n",
       "        vertical-align: top;\n",
       "    }\n",
       "\n",
       "    .dataframe thead th {\n",
       "        text-align: right;\n",
       "    }\n",
       "</style>\n",
       "<table border=\"1\" class=\"dataframe\">\n",
       "  <thead>\n",
       "    <tr style=\"text-align: right;\">\n",
       "      <th></th>\n",
       "      <th>label</th>\n",
       "      <th>text</th>\n",
       "    </tr>\n",
       "  </thead>\n",
       "  <tbody>\n",
       "    <tr>\n",
       "      <th>0</th>\n",
       "      <td>Household</td>\n",
       "      <td>SAF 'Floral' Framed Painting (Wood, 30 inch x ...</td>\n",
       "    </tr>\n",
       "    <tr>\n",
       "      <th>1</th>\n",
       "      <td>Household</td>\n",
       "      <td>SAF 'UV Textured Modern Art Print Framed' Pain...</td>\n",
       "    </tr>\n",
       "    <tr>\n",
       "      <th>2</th>\n",
       "      <td>Household</td>\n",
       "      <td>SAF Flower Print Framed Painting (Synthetic, 1...</td>\n",
       "    </tr>\n",
       "    <tr>\n",
       "      <th>3</th>\n",
       "      <td>Household</td>\n",
       "      <td>Incredible Gifts India Wooden Happy Birthday U...</td>\n",
       "    </tr>\n",
       "    <tr>\n",
       "      <th>4</th>\n",
       "      <td>Household</td>\n",
       "      <td>Pitaara Box Romantic Venice Canvas Painting 6m...</td>\n",
       "    </tr>\n",
       "  </tbody>\n",
       "</table>\n",
       "</div>"
      ],
      "text/plain": [
       "       label                                               text\n",
       "0  Household  SAF 'Floral' Framed Painting (Wood, 30 inch x ...\n",
       "1  Household  SAF 'UV Textured Modern Art Print Framed' Pain...\n",
       "2  Household  SAF Flower Print Framed Painting (Synthetic, 1...\n",
       "3  Household  Incredible Gifts India Wooden Happy Birthday U...\n",
       "4  Household  Pitaara Box Romantic Venice Canvas Painting 6m..."
      ]
     },
     "execution_count": 5,
     "metadata": {},
     "output_type": "execute_result"
    }
   ],
   "source": [
    "df.head(5)"
   ]
  },
  {
   "cell_type": "code",
   "execution_count": null,
   "id": "8fc5c003-d288-4c20-91e1-dfbb9f10e9a2",
   "metadata": {},
   "outputs": [],
   "source": []
  },
  {
   "cell_type": "code",
   "execution_count": null,
   "id": "d8c8b263-3cc0-4ab5-aba5-d7e89de76eb4",
   "metadata": {},
   "outputs": [],
   "source": []
  },
  {
   "cell_type": "code",
   "execution_count": 6,
   "id": "4a5b88e8-86aa-43a8-9a6f-36461c914a02",
   "metadata": {},
   "outputs": [
    {
     "data": {
      "text/plain": [
       "\"SAF 'Floral' Framed Painting (Wood, 30 inch x 10 inch, Special Effect UV Print Textured, SAO297) Painting made up in synthetic frame with UV textured print which gives multi effects and attracts towards it. This is an special series of paintings which makes your wall very beautiful and gives a royal touch (A perfect gift for your special ones).\""
      ]
     },
     "execution_count": 6,
     "metadata": {},
     "output_type": "execute_result"
    }
   ],
   "source": [
    "df.text.iloc[0]"
   ]
  },
  {
   "cell_type": "code",
   "execution_count": 7,
   "id": "62a8c59f-def0-4f29-aa79-803f2b4ca81d",
   "metadata": {},
   "outputs": [],
   "source": [
    "import re \n",
    "def converter(text):\n",
    "    text = re.sub(r\"[^\\w\\s\\']\", \" \", text )\n",
    "    text = re.sub(r\"[ +]\", \" \", text)\n",
    "    return text.strip().lower()"
   ]
  },
  {
   "cell_type": "code",
   "execution_count": 8,
   "id": "86fe10bb-12e6-464d-b76c-585263d8372d",
   "metadata": {},
   "outputs": [],
   "source": [
    "df.text = df.text.astype(str).apply(converter)"
   ]
  },
  {
   "cell_type": "code",
   "execution_count": 13,
   "id": "88085965-b601-484e-9fd6-d283cc99606b",
   "metadata": {},
   "outputs": [],
   "source": [
    "df[\"trainingds\"] = \"__label__\" + df.label + \" \" + df.text"
   ]
  },
  {
   "cell_type": "code",
   "execution_count": 15,
   "id": "132480da-a038-4d89-b6cd-30f080f92c47",
   "metadata": {},
   "outputs": [
    {
     "data": {
      "text/html": [
       "<div>\n",
       "<style scoped>\n",
       "    .dataframe tbody tr th:only-of-type {\n",
       "        vertical-align: middle;\n",
       "    }\n",
       "\n",
       "    .dataframe tbody tr th {\n",
       "        vertical-align: top;\n",
       "    }\n",
       "\n",
       "    .dataframe thead th {\n",
       "        text-align: right;\n",
       "    }\n",
       "</style>\n",
       "<table border=\"1\" class=\"dataframe\">\n",
       "  <thead>\n",
       "    <tr style=\"text-align: right;\">\n",
       "      <th></th>\n",
       "      <th>label</th>\n",
       "      <th>text</th>\n",
       "      <th>trainingds</th>\n",
       "    </tr>\n",
       "  </thead>\n",
       "  <tbody>\n",
       "    <tr>\n",
       "      <th>0</th>\n",
       "      <td>Household</td>\n",
       "      <td>saf 'floral' framed painting  wood  30 inch x ...</td>\n",
       "      <td>__label__Household saf 'floral' framed paintin...</td>\n",
       "    </tr>\n",
       "    <tr>\n",
       "      <th>1</th>\n",
       "      <td>Household</td>\n",
       "      <td>saf 'uv textured modern art print framed' pain...</td>\n",
       "      <td>__label__Household saf 'uv textured modern art...</td>\n",
       "    </tr>\n",
       "    <tr>\n",
       "      <th>2</th>\n",
       "      <td>Household</td>\n",
       "      <td>saf flower print framed painting  synthetic  1...</td>\n",
       "      <td>__label__Household saf flower print framed pai...</td>\n",
       "    </tr>\n",
       "    <tr>\n",
       "      <th>3</th>\n",
       "      <td>Household</td>\n",
       "      <td>incredible gifts india wooden happy birthday u...</td>\n",
       "      <td>__label__Household incredible gifts india wood...</td>\n",
       "    </tr>\n",
       "    <tr>\n",
       "      <th>4</th>\n",
       "      <td>Household</td>\n",
       "      <td>pitaara box romantic venice canvas painting 6m...</td>\n",
       "      <td>__label__Household pitaara box romantic venice...</td>\n",
       "    </tr>\n",
       "    <tr>\n",
       "      <th>...</th>\n",
       "      <td>...</td>\n",
       "      <td>...</td>\n",
       "      <td>...</td>\n",
       "    </tr>\n",
       "    <tr>\n",
       "      <th>50419</th>\n",
       "      <td>Electronics</td>\n",
       "      <td>strontium microsd class 10 8gb memory card  bl...</td>\n",
       "      <td>__label__Electronics strontium microsd class 1...</td>\n",
       "    </tr>\n",
       "    <tr>\n",
       "      <th>50420</th>\n",
       "      <td>Electronics</td>\n",
       "      <td>crossbeats wave waterproof bluetooth wireless ...</td>\n",
       "      <td>__label__Electronics crossbeats wave waterproo...</td>\n",
       "    </tr>\n",
       "    <tr>\n",
       "      <th>50421</th>\n",
       "      <td>Electronics</td>\n",
       "      <td>karbonn titanium wind w4  white  karbonn titan...</td>\n",
       "      <td>__label__Electronics karbonn titanium wind w4 ...</td>\n",
       "    </tr>\n",
       "    <tr>\n",
       "      <th>50422</th>\n",
       "      <td>Electronics</td>\n",
       "      <td>samsung guru fm plus  sm b110e d  black  colou...</td>\n",
       "      <td>__label__Electronics samsung guru fm plus  sm ...</td>\n",
       "    </tr>\n",
       "    <tr>\n",
       "      <th>50423</th>\n",
       "      <td>Electronics</td>\n",
       "      <td>micromax canvas win w121  white</td>\n",
       "      <td>__label__Electronics micromax canvas win w121 ...</td>\n",
       "    </tr>\n",
       "  </tbody>\n",
       "</table>\n",
       "<p>50424 rows × 3 columns</p>\n",
       "</div>"
      ],
      "text/plain": [
       "             label                                               text  \\\n",
       "0        Household  saf 'floral' framed painting  wood  30 inch x ...   \n",
       "1        Household  saf 'uv textured modern art print framed' pain...   \n",
       "2        Household  saf flower print framed painting  synthetic  1...   \n",
       "3        Household  incredible gifts india wooden happy birthday u...   \n",
       "4        Household  pitaara box romantic venice canvas painting 6m...   \n",
       "...            ...                                                ...   \n",
       "50419  Electronics  strontium microsd class 10 8gb memory card  bl...   \n",
       "50420  Electronics  crossbeats wave waterproof bluetooth wireless ...   \n",
       "50421  Electronics  karbonn titanium wind w4  white  karbonn titan...   \n",
       "50422  Electronics  samsung guru fm plus  sm b110e d  black  colou...   \n",
       "50423  Electronics                    micromax canvas win w121  white   \n",
       "\n",
       "                                              trainingds  \n",
       "0      __label__Household saf 'floral' framed paintin...  \n",
       "1      __label__Household saf 'uv textured modern art...  \n",
       "2      __label__Household saf flower print framed pai...  \n",
       "3      __label__Household incredible gifts india wood...  \n",
       "4      __label__Household pitaara box romantic venice...  \n",
       "...                                                  ...  \n",
       "50419  __label__Electronics strontium microsd class 1...  \n",
       "50420  __label__Electronics crossbeats wave waterproo...  \n",
       "50421  __label__Electronics karbonn titanium wind w4 ...  \n",
       "50422  __label__Electronics samsung guru fm plus  sm ...  \n",
       "50423  __label__Electronics micromax canvas win w121 ...  \n",
       "\n",
       "[50424 rows x 3 columns]"
      ]
     },
     "execution_count": 15,
     "metadata": {},
     "output_type": "execute_result"
    }
   ],
   "source": [
    "df"
   ]
  },
  {
   "cell_type": "code",
   "execution_count": 16,
   "id": "ebeeea94-cc38-4dd7-b16f-081fceb43b52",
   "metadata": {},
   "outputs": [],
   "source": [
    "df.to_csv(\"appliances.txt\", columns=[\"trainingds\"], index=None, header=None)"
   ]
  },
  {
   "cell_type": "code",
   "execution_count": 17,
   "id": "29e0c74d-37e2-4822-b8a6-7ada47081157",
   "metadata": {},
   "outputs": [],
   "source": [
    "train, test = train_test_split(df.trainingds, test_size=0.2)"
   ]
  },
  {
   "cell_type": "code",
   "execution_count": 18,
   "id": "9c02069b-fab7-47e1-8f8a-87d8062033ae",
   "metadata": {},
   "outputs": [
    {
     "data": {
      "text/plain": [
       "(40339,)"
      ]
     },
     "execution_count": 18,
     "metadata": {},
     "output_type": "execute_result"
    }
   ],
   "source": [
    "train.shape"
   ]
  },
  {
   "cell_type": "code",
   "execution_count": 19,
   "id": "dd04e89a-72ed-430b-8104-f7bd7a611429",
   "metadata": {},
   "outputs": [
    {
     "data": {
      "text/plain": [
       "(10085,)"
      ]
     },
     "execution_count": 19,
     "metadata": {},
     "output_type": "execute_result"
    }
   ],
   "source": [
    "test.shape"
   ]
  },
  {
   "cell_type": "code",
   "execution_count": 22,
   "id": "2eebef67-1e49-49c5-8c13-99fddd99dd10",
   "metadata": {},
   "outputs": [],
   "source": [
    "train.to_csv(\"train.txt\", columns=[\"trainingds\"], index=None, header=None)\n",
    "test.to_csv(\"test.txt\", columns=[\"trainingds\"], index=None, header=None)"
   ]
  },
  {
   "cell_type": "code",
   "execution_count": 23,
   "id": "104b81f1-c061-4874-89b4-9df0033442d8",
   "metadata": {},
   "outputs": [],
   "source": [
    "import fasttext"
   ]
  },
  {
   "cell_type": "code",
   "execution_count": 25,
   "id": "114db1e9-7c85-4135-ab59-b0eaefc45122",
   "metadata": {},
   "outputs": [],
   "source": [
    "model = fasttext.train_supervised(input=\"train.txt\")"
   ]
  },
  {
   "cell_type": "code",
   "execution_count": 27,
   "id": "12eeee40-250f-499d-b226-a2cf167df079",
   "metadata": {},
   "outputs": [
    {
     "data": {
      "text/plain": [
       "\"saf 'floral' framed painting  wood  30 inch x 10 inch  special effect uv print textured  sao297  painting made up in synthetic frame with uv textured print which gives multi effects and attracts towards it  this is an special series of paintings which makes your wall very beautiful and gives a royal touch  a perfect gift for your special ones\""
      ]
     },
     "execution_count": 27,
     "metadata": {},
     "output_type": "execute_result"
    }
   ],
   "source": [
    "df.text.iloc[0]\n"
   ]
  },
  {
   "cell_type": "code",
   "execution_count": 28,
   "id": "c9210793-bc05-44fe-abf6-b267219577b1",
   "metadata": {},
   "outputs": [
    {
     "data": {
      "text/plain": [
       "(('__label__Household',), array([0.9959138]))"
      ]
     },
     "execution_count": 28,
     "metadata": {},
     "output_type": "execute_result"
    }
   ],
   "source": [
    "model.predict(\"saf 'floral' framed painting  wood  30 inch x 10 inch  special effect uv print textured  sao297  painting made up in synthetic frame with uv textured print which gives multi effects and attracts towards it  this is an special series of paintings which makes your wall very beautiful and gives a royal touch  a perfect gift for your special ones\")"
   ]
  },
  {
   "cell_type": "code",
   "execution_count": null,
   "id": "8451c513-1a12-4706-a272-4ffd0ebf64f9",
   "metadata": {},
   "outputs": [],
   "source": []
  }
 ],
 "metadata": {
  "kernelspec": {
   "display_name": "Python 3 (ipykernel)",
   "language": "python",
   "name": "python3"
  },
  "language_info": {
   "codemirror_mode": {
    "name": "ipython",
    "version": 3
   },
   "file_extension": ".py",
   "mimetype": "text/x-python",
   "name": "python",
   "nbconvert_exporter": "python",
   "pygments_lexer": "ipython3",
   "version": "3.10.16"
  }
 },
 "nbformat": 4,
 "nbformat_minor": 5
}

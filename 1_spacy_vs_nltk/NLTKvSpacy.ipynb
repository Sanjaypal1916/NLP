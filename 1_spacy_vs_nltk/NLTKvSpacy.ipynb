{
 "cells": [
  {
   "cell_type": "code",
   "execution_count": 2,
   "id": "d440ff42-86f7-4189-8b99-b02541f4f5f6",
   "metadata": {},
   "outputs": [],
   "source": [
    "import spacy \n",
    "import nltk"
   ]
  },
  {
   "cell_type": "code",
   "execution_count": 4,
   "id": "7ac4f10e-67f6-46c6-9b53-e93fca4b520c",
   "metadata": {},
   "outputs": [],
   "source": [
    "ps = spacy.load(\"en_core_web_sm\")"
   ]
  },
  {
   "cell_type": "code",
   "execution_count": 9,
   "id": "de796f0e-ee44-4a8a-ae6b-7269f8e7a755",
   "metadata": {},
   "outputs": [
    {
     "name": "stdout",
     "output_type": "stream",
     "text": [
      "Dr. strange is in love with street foods.\n",
      "Iron man loves india.\n",
      "why is indian cuisin so popular ?\n",
      "is there any reason behind it ?\n"
     ]
    }
   ],
   "source": [
    "doc = ps(\"Dr. strange is in love with street foods. Iron man loves india. why is indian cuisin so popular ? is there any reason behind it ?\")\n",
    "\n",
    "for i in doc.sents:\n",
    "    print(i)"
   ]
  },
  {
   "cell_type": "code",
   "execution_count": 10,
   "id": "43931b95-db4d-40d7-9e62-7263a7a36170",
   "metadata": {},
   "outputs": [
    {
     "name": "stdout",
     "output_type": "stream",
     "text": [
      "Dr.\n",
      "strange\n",
      "is\n",
      "in\n",
      "love\n",
      "with\n",
      "street\n",
      "foods\n",
      ".\n",
      "Iron\n",
      "man\n",
      "loves\n",
      "india\n",
      ".\n",
      "why\n",
      "is\n",
      "indian\n",
      "cuisin\n",
      "so\n",
      "popular\n",
      "?\n",
      "is\n",
      "there\n",
      "any\n",
      "reason\n",
      "behind\n",
      "it\n",
      "?\n"
     ]
    }
   ],
   "source": [
    "\n",
    "for i in doc.sents:\n",
    "    for words in i:\n",
    "        print(words)\n",
    "    "
   ]
  },
  {
   "cell_type": "code",
   "execution_count": 13,
   "id": "a2e4e0bc-594b-48db-ab91-baf66da5ddc0",
   "metadata": {},
   "outputs": [
    {
     "data": {
      "text/plain": [
       "['Dr. strange is in love with street foods.',\n",
       " 'Iron man loves india.',\n",
       " 'why is indian cuisin so popular ?',\n",
       " 'is there any reason behind it ?']"
      ]
     },
     "execution_count": 13,
     "metadata": {},
     "output_type": "execute_result"
    }
   ],
   "source": [
    "from nltk.tokenize import sent_tokenize\n",
    "\n",
    "sent_tokenize(\"Dr. strange is in love with street foods. Iron man loves india. why is indian cuisin so popular ? is there any reason behind it ?\")"
   ]
  },
  {
   "cell_type": "code",
   "execution_count": 14,
   "id": "1fe04121-2018-4593-9de9-8b7cbbb78186",
   "metadata": {},
   "outputs": [
    {
     "data": {
      "text/plain": [
       "['Dr.',\n",
       " 'strange',\n",
       " 'is',\n",
       " 'in',\n",
       " 'love',\n",
       " 'with',\n",
       " 'street',\n",
       " 'foods',\n",
       " '.',\n",
       " 'Iron',\n",
       " 'man',\n",
       " 'loves',\n",
       " 'india',\n",
       " '.',\n",
       " 'why',\n",
       " 'is',\n",
       " 'indian',\n",
       " 'cuisin',\n",
       " 'so',\n",
       " 'popular',\n",
       " '?',\n",
       " 'is',\n",
       " 'there',\n",
       " 'any',\n",
       " 'reason',\n",
       " 'behind',\n",
       " 'it',\n",
       " '?']"
      ]
     },
     "execution_count": 14,
     "metadata": {},
     "output_type": "execute_result"
    }
   ],
   "source": [
    "from nltk.tokenize import word_tokenize\n",
    "\n",
    "word_tokenize(\"Dr. strange is in love with street foods. Iron man loves india. why is indian cuisin so popular ? is there any reason behind it ?\")"
   ]
  },
  {
   "cell_type": "code",
   "execution_count": null,
   "id": "276adeeb-b905-4a73-b056-9135b1e9a3b7",
   "metadata": {},
   "outputs": [],
   "source": []
  }
 ],
 "metadata": {
  "kernelspec": {
   "display_name": "Python 3 (ipykernel)",
   "language": "python",
   "name": "python3"
  },
  "language_info": {
   "codemirror_mode": {
    "name": "ipython",
    "version": 3
   },
   "file_extension": ".py",
   "mimetype": "text/x-python",
   "name": "python",
   "nbconvert_exporter": "python",
   "pygments_lexer": "ipython3",
   "version": "3.10.16"
  }
 },
 "nbformat": 4,
 "nbformat_minor": 5
}

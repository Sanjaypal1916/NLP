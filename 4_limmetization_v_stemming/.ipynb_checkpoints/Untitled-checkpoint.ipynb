{
 "cells": [
  {
   "cell_type": "code",
   "execution_count": 2,
   "id": "06edf4a7-8a8e-4a71-b24e-5c34a8aee2ee",
   "metadata": {},
   "outputs": [],
   "source": [
    "import nltk\n",
    "from nltk.stem import PorterStemmer"
   ]
  },
  {
   "cell_type": "code",
   "execution_count": 7,
   "id": "99f62917-26f5-448a-950d-e9df1725687b",
   "metadata": {},
   "outputs": [],
   "source": [
    "stem = PorterStemmer()"
   ]
  },
  {
   "cell_type": "code",
   "execution_count": 13,
   "id": "8b62a56d-c3a1-4f07-a973-c0771dd25ec7",
   "metadata": {},
   "outputs": [],
   "source": [
    "k = \"he is a good boy, but ravi is better but sanjay and sanjay are the best\"\n",
    "listed_word = k.split()\n",
    "y = []\n",
    "for i in listed_word:\n",
    "    y.append(stem.stem(i))"
   ]
  },
  {
   "cell_type": "code",
   "execution_count": 14,
   "id": "66862878-c68d-43a3-ad43-7418e110954d",
   "metadata": {},
   "outputs": [
    {
     "data": {
      "text/plain": [
       "['he',\n",
       " 'is',\n",
       " 'a',\n",
       " 'good',\n",
       " 'boy,',\n",
       " 'but',\n",
       " 'ravi',\n",
       " 'is',\n",
       " 'better',\n",
       " 'but',\n",
       " 'sanjay',\n",
       " 'and',\n",
       " 'sanjay',\n",
       " 'are',\n",
       " 'the',\n",
       " 'best']"
      ]
     },
     "execution_count": 14,
     "metadata": {},
     "output_type": "execute_result"
    }
   ],
   "source": [
    "y"
   ]
  },
  {
   "cell_type": "code",
   "execution_count": 15,
   "id": "ff78f38c-7dd2-4ef5-a7e4-8f17407464eb",
   "metadata": {},
   "outputs": [],
   "source": [
    "import spacy "
   ]
  },
  {
   "cell_type": "code",
   "execution_count": 30,
   "id": "92c91fed-b6e5-468d-82b8-f7a361217bcd",
   "metadata": {},
   "outputs": [],
   "source": [
    "nlp = spacy.load(\"en_core_web_sm\")"
   ]
  },
  {
   "cell_type": "code",
   "execution_count": 31,
   "id": "c1a80e01-3340-45ec-be07-5d949fd8ef82",
   "metadata": {},
   "outputs": [],
   "source": [
    "docs = nlp(\"bro is a good, but brah is better but bruh and dude are the best\")"
   ]
  },
  {
   "cell_type": "code",
   "execution_count": 32,
   "id": "0b812622-da54-4e8b-b10b-5a1f29a896ed",
   "metadata": {},
   "outputs": [
    {
     "name": "stdout",
     "output_type": "stream",
     "text": [
      "bro\n",
      "be\n",
      "a\n",
      "good\n",
      ",\n",
      "but\n",
      "brah\n",
      "be\n",
      "well\n",
      "but\n",
      "bruh\n",
      "and\n",
      "dude\n",
      "be\n",
      "the\n",
      "good\n"
     ]
    }
   ],
   "source": [
    "for token in docs:\n",
    "    print(token.lemma_)"
   ]
  },
  {
   "cell_type": "code",
   "execution_count": 33,
   "id": "2b4e520e-ba14-4e97-a091-7bdd303d1306",
   "metadata": {},
   "outputs": [
    {
     "data": {
      "text/plain": [
       "['tok2vec', 'tagger', 'parser', 'attribute_ruler', 'lemmatizer', 'ner']"
      ]
     },
     "execution_count": 33,
     "metadata": {},
     "output_type": "execute_result"
    }
   ],
   "source": [
    "nlp.pipe_names"
   ]
  },
  {
   "cell_type": "code",
   "execution_count": 34,
   "id": "ebe25322-3f4e-44ed-a20f-15704fd0f148",
   "metadata": {},
   "outputs": [],
   "source": [
    "ar = nlp.get_pipe(\"attribute_ruler\")\n",
    "\n",
    "ar.add([\n",
    "    [{\"TEXT\":\"bro\"}], \n",
    "    [{\"TEXT\":\"bruh\"}], \n",
    "    [{\"TEXT\":\"brah\"}],\n",
    "    [{\"TEXT\":\"dude\"}]\n",
    "], {\"LEMMA\":\"brother\"})"
   ]
  },
  {
   "cell_type": "code",
   "execution_count": 35,
   "id": "3f266df3-52b7-4114-8bde-087dad2701a4",
   "metadata": {},
   "outputs": [
    {
     "name": "stdout",
     "output_type": "stream",
     "text": [
      "brother\n",
      "be\n",
      "a\n",
      "good\n",
      ",\n",
      "but\n",
      "brother\n",
      "be\n",
      "well\n",
      "but\n",
      "brother\n",
      "and\n",
      "brother\n",
      "be\n",
      "the\n",
      "good\n"
     ]
    }
   ],
   "source": [
    "docs = nlp(\"bro is a good, but brah is better but bruh and dude are the best\")\n",
    "for token in docs:\n",
    "    print(token.lemma_)"
   ]
  },
  {
   "cell_type": "code",
   "execution_count": null,
   "id": "72259384-064d-4d00-8480-e8ee7b97f688",
   "metadata": {},
   "outputs": [],
   "source": []
  }
 ],
 "metadata": {
  "kernelspec": {
   "display_name": "Python 3 (ipykernel)",
   "language": "python",
   "name": "python3"
  },
  "language_info": {
   "codemirror_mode": {
    "name": "ipython",
    "version": 3
   },
   "file_extension": ".py",
   "mimetype": "text/x-python",
   "name": "python",
   "nbconvert_exporter": "python",
   "pygments_lexer": "ipython3",
   "version": "3.10.16"
  }
 },
 "nbformat": 4,
 "nbformat_minor": 5
}

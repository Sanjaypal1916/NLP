{
 "cells": [
  {
   "cell_type": "code",
   "execution_count": 1,
   "id": "bf4fcc5c-4ac4-4b29-b5f0-566c34c992f1",
   "metadata": {},
   "outputs": [],
   "source": [
    "import spacy "
   ]
  },
  {
   "cell_type": "code",
   "execution_count": 2,
   "id": "a13e41bd-cefe-4b8c-91d4-9afd10f4553c",
   "metadata": {},
   "outputs": [],
   "source": [
    "nlp = spacy.blank(\"en\")"
   ]
  },
  {
   "cell_type": "code",
   "execution_count": 5,
   "id": "abe0de08-e320-4d32-8a6a-0c91d0a2fa93",
   "metadata": {},
   "outputs": [],
   "source": [
    "docs = nlp(\"hey im sanjay. i am a professional data-scientist\")"
   ]
  },
  {
   "cell_type": "code",
   "execution_count": 6,
   "id": "b63e95a5-9f9e-4d81-a0e8-3119d1507a22",
   "metadata": {},
   "outputs": [
    {
     "data": {
      "text/plain": [
       "hey im sanjay. i am a professional data-scientist"
      ]
     },
     "execution_count": 6,
     "metadata": {},
     "output_type": "execute_result"
    }
   ],
   "source": [
    "docs"
   ]
  },
  {
   "cell_type": "code",
   "execution_count": 8,
   "id": "ab988219-395e-4175-9cc2-d4a248d8d29d",
   "metadata": {},
   "outputs": [
    {
     "name": "stdout",
     "output_type": "stream",
     "text": [
      "hey\n",
      "i\n",
      "m\n",
      "sanjay\n",
      ".\n",
      "i\n",
      "am\n",
      "a\n",
      "professional\n",
      "data\n",
      "-\n",
      "scientist\n"
     ]
    }
   ],
   "source": [
    "for token in docs:\n",
    "    token"
   ]
  },
  {
   "cell_type": "code",
   "execution_count": 48,
   "id": "b8ce964f-01fe-4fdf-9c1d-13a57c300aa0",
   "metadata": {},
   "outputs": [
    {
     "data": {
      "text/plain": [
       "[('tok2vec', <spacy.pipeline.tok2vec.Tok2Vec at 0x23f948e6140>),\n",
       " ('tagger', <spacy.pipeline.tagger.Tagger at 0x23f948e61a0>),\n",
       " ('parser', <spacy.pipeline.dep_parser.DependencyParser at 0x23f949153f0>),\n",
       " ('attribute_ruler',\n",
       "  <spacy.pipeline.attributeruler.AttributeRuler at 0x23fca39b540>),\n",
       " ('lemmatizer', <spacy.lang.en.lemmatizer.EnglishLemmatizer at 0x23f94af57c0>),\n",
       " ('ner', <spacy.pipeline.ner.EntityRecognizer at 0x23f94915150>)]"
      ]
     },
     "execution_count": 48,
     "metadata": {},
     "output_type": "execute_result"
    }
   ],
   "source": [
    "nlp.pipeline"
   ]
  },
  {
   "cell_type": "code",
   "execution_count": 49,
   "id": "07d3d480-c16b-4c5e-872a-07808176b215",
   "metadata": {},
   "outputs": [],
   "source": [
    "nlp = spacy.load(\"en_core_web_sm\")"
   ]
  },
  {
   "cell_type": "code",
   "execution_count": 50,
   "id": "4a261b8c-eb86-406e-8e37-0a94b50523f3",
   "metadata": {},
   "outputs": [],
   "source": [
    "docs = nlp(\"Captain america ate 100$ of samosa. Then he said I can do this all day.\")"
   ]
  },
  {
   "cell_type": "code",
   "execution_count": 51,
   "id": "c81d0935-4eca-440b-9883-eb591bacb29d",
   "metadata": {},
   "outputs": [],
   "source": [
    "for i in docs:\n",
    "    i"
   ]
  },
  {
   "cell_type": "code",
   "execution_count": 52,
   "id": "163cd90f-14cd-4f23-8f89-241ec1fe7369",
   "metadata": {},
   "outputs": [
    {
     "data": {
      "text/plain": [
       "['tok2vec', 'tagger', 'parser', 'attribute_ruler', 'lemmatizer', 'ner']"
      ]
     },
     "execution_count": 52,
     "metadata": {},
     "output_type": "execute_result"
    }
   ],
   "source": [
    "nlp.pipe_names"
   ]
  },
  {
   "cell_type": "code",
   "execution_count": 53,
   "id": "c62a198b-5b41-4c22-af14-3945d19a8563",
   "metadata": {},
   "outputs": [
    {
     "data": {
      "text/plain": [
       "'proper noun'"
      ]
     },
     "execution_count": 53,
     "metadata": {},
     "output_type": "execute_result"
    }
   ],
   "source": [
    "spacy.explain(docs[0].pos_)"
   ]
  },
  {
   "cell_type": "code",
   "execution_count": 57,
   "id": "070e9806-6569-434c-b4c8-fa0fb42494f3",
   "metadata": {},
   "outputs": [
    {
     "name": "stdout",
     "output_type": "stream",
     "text": [
      "Captain  >>>>  proper noun  >>>>  Captain\n",
      "america  >>>>  proper noun  >>>>  america\n",
      "ate  >>>>  verb  >>>>  eat\n",
      "100  >>>>  numeral  >>>>  100\n",
      "$  >>>>  numeral  >>>>  $\n",
      "of  >>>>  adposition  >>>>  of\n",
      "samosa  >>>>  proper noun  >>>>  samosa\n",
      ".  >>>>  punctuation  >>>>  .\n",
      "Then  >>>>  adverb  >>>>  then\n",
      "he  >>>>  pronoun  >>>>  he\n",
      "said  >>>>  verb  >>>>  say\n",
      "I  >>>>  pronoun  >>>>  I\n",
      "can  >>>>  auxiliary  >>>>  can\n",
      "do  >>>>  verb  >>>>  do\n",
      "this  >>>>  pronoun  >>>>  this\n",
      "all  >>>>  determiner  >>>>  all\n",
      "day  >>>>  noun  >>>>  day\n",
      ".  >>>>  punctuation  >>>>  .\n"
     ]
    }
   ],
   "source": [
    "for i in docs:\n",
    "    print(i, \" >>>> \",spacy.explain(i.pos_), \" >>>> \", i.lemma_)"
   ]
  },
  {
   "cell_type": "code",
   "execution_count": 59,
   "id": "0446bfdd-54ea-4020-b7d3-b1508dd642b0",
   "metadata": {},
   "outputs": [
    {
     "name": "stdout",
     "output_type": "stream",
     "text": [
      "Tesla Inc ORG\n",
      "$45 billion MONEY\n"
     ]
    }
   ],
   "source": [
    "doc = nlp(\"Tesla Inc is going to acquire twitter for $45 billion\")\n",
    "for ent in doc.ents:\n",
    "    print(ent.text, ent.label_)\n",
    "    "
   ]
  },
  {
   "cell_type": "code",
   "execution_count": 62,
   "id": "15dd2a1e-8b27-4743-8224-6f287cb54dfd",
   "metadata": {},
   "outputs": [
    {
     "data": {
      "text/html": [
       "<span class=\"tex2jax_ignore\"><div class=\"entities\" style=\"line-height: 2.5; direction: ltr\">\n",
       "<mark class=\"entity\" style=\"background: #7aecec; padding: 0.45em 0.6em; margin: 0 0.25em; line-height: 1; border-radius: 0.35em;\">\n",
       "    Tesla Inc\n",
       "    <span style=\"font-size: 0.8em; font-weight: bold; line-height: 1; border-radius: 0.35em; vertical-align: middle; margin-left: 0.5rem\">ORG</span>\n",
       "</mark>\n",
       " is going to acquire twitter for \n",
       "<mark class=\"entity\" style=\"background: #e4e7d2; padding: 0.45em 0.6em; margin: 0 0.25em; line-height: 1; border-radius: 0.35em;\">\n",
       "    $45 billion\n",
       "    <span style=\"font-size: 0.8em; font-weight: bold; line-height: 1; border-radius: 0.35em; vertical-align: middle; margin-left: 0.5rem\">MONEY</span>\n",
       "</mark>\n",
       "</div></span>"
      ],
      "text/plain": [
       "<IPython.core.display.HTML object>"
      ]
     },
     "metadata": {},
     "output_type": "display_data"
    }
   ],
   "source": [
    "from spacy import displacy\n",
    "displacy.render(doc, style=\"ent\")"
   ]
  },
  {
   "cell_type": "code",
   "execution_count": 72,
   "id": "1543e164-5a64-4465-9ac4-e204e1e8105a",
   "metadata": {},
   "outputs": [
    {
     "name": "stdout",
     "output_type": "stream",
     "text": [
      "अरे\n",
      "माधरचोद\n",
      ",\n",
      "मेरा\n",
      "पैसा\n",
      "कब\n",
      "लौटाएगा\n",
      "बहिनचोद\n",
      "।\n"
     ]
    }
   ],
   "source": [
    "nlp = spacy.load(\"xx_ent_wiki_sm\")\n",
    "doc = nlp(\"अरे माधरचोद, मेरा पैसा कब लौटाएगा बहिनचोद । \")\n",
    "for token in doc:\n",
    "    print(token.text)"
   ]
  },
  {
   "cell_type": "code",
   "execution_count": null,
   "id": "88e987e2-3da7-4540-be24-ab7a9056e25a",
   "metadata": {},
   "outputs": [],
   "source": []
  }
 ],
 "metadata": {
  "kernelspec": {
   "display_name": "Python 3 (ipykernel)",
   "language": "python",
   "name": "python3"
  },
  "language_info": {
   "codemirror_mode": {
    "name": "ipython",
    "version": 3
   },
   "file_extension": ".py",
   "mimetype": "text/x-python",
   "name": "python",
   "nbconvert_exporter": "python",
   "pygments_lexer": "ipython3",
   "version": "3.10.16"
  }
 },
 "nbformat": 4,
 "nbformat_minor": 5
}

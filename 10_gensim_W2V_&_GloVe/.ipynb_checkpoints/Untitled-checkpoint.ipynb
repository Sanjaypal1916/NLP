{
 "cells": [
  {
   "cell_type": "markdown",
   "id": "38b04829-f064-4c10-b769-9e739b363600",
   "metadata": {},
   "source": [
    "WORD_2_VECTOR"
   ]
  },
  {
   "cell_type": "code",
   "execution_count": 1,
   "id": "bc1582b8-caf6-44bc-b216-aa32875eef27",
   "metadata": {},
   "outputs": [],
   "source": [
    "import gensim.downloader as api"
   ]
  },
  {
   "cell_type": "code",
   "execution_count": 2,
   "id": "33e9cae3-f525-42a4-81d8-2510a783d96e",
   "metadata": {},
   "outputs": [
    {
     "name": "stdout",
     "output_type": "stream",
     "text": [
      "[==================================================] 100.0% 1662.8/1662.8MB downloaded\n"
     ]
    }
   ],
   "source": [
    "wv = api.load('word2vec-google-news-300')"
   ]
  },
  {
   "cell_type": "code",
   "execution_count": 3,
   "id": "632b6387-3836-4c3f-b304-e163f674415e",
   "metadata": {},
   "outputs": [
    {
     "data": {
      "text/plain": [
       "0.46600628"
      ]
     },
     "execution_count": 3,
     "metadata": {},
     "output_type": "execute_result"
    }
   ],
   "source": [
    "wv.similarity(\"bread\", \"sandwich\")"
   ]
  },
  {
   "cell_type": "code",
   "execution_count": 4,
   "id": "0171467c-9de6-4e31-aea5-88a514f55aab",
   "metadata": {},
   "outputs": [
    {
     "data": {
      "text/plain": [
       "['__class__',\n",
       " '__contains__',\n",
       " '__delattr__',\n",
       " '__dict__',\n",
       " '__dir__',\n",
       " '__doc__',\n",
       " '__eq__',\n",
       " '__format__',\n",
       " '__ge__',\n",
       " '__getattribute__',\n",
       " '__getitem__',\n",
       " '__gt__',\n",
       " '__hash__',\n",
       " '__init__',\n",
       " '__init_subclass__',\n",
       " '__le__',\n",
       " '__len__',\n",
       " '__lt__',\n",
       " '__module__',\n",
       " '__ne__',\n",
       " '__new__',\n",
       " '__reduce__',\n",
       " '__reduce_ex__',\n",
       " '__repr__',\n",
       " '__setattr__',\n",
       " '__setitem__',\n",
       " '__sizeof__',\n",
       " '__str__',\n",
       " '__subclasshook__',\n",
       " '__weakref__',\n",
       " '_adapt_by_suffix',\n",
       " '_load_specials',\n",
       " '_log_evaluate_word_analogies',\n",
       " '_save_specials',\n",
       " '_smart_save',\n",
       " '_upconvert_old_d2vkv',\n",
       " '_upconvert_old_vocab',\n",
       " 'add_lifecycle_event',\n",
       " 'add_vector',\n",
       " 'add_vectors',\n",
       " 'allocate_vecattrs',\n",
       " 'closer_than',\n",
       " 'cosine_similarities',\n",
       " 'distance',\n",
       " 'distances',\n",
       " 'doesnt_match',\n",
       " 'evaluate_word_analogies',\n",
       " 'evaluate_word_pairs',\n",
       " 'expandos',\n",
       " 'fill_norms',\n",
       " 'get_index',\n",
       " 'get_mean_vector',\n",
       " 'get_normed_vectors',\n",
       " 'get_vecattr',\n",
       " 'get_vector',\n",
       " 'has_index_for',\n",
       " 'index2entity',\n",
       " 'index2word',\n",
       " 'index_to_key',\n",
       " 'init_sims',\n",
       " 'intersect_word2vec_format',\n",
       " 'key_to_index',\n",
       " 'lifecycle_events',\n",
       " 'load',\n",
       " 'load_word2vec_format',\n",
       " 'log_accuracy',\n",
       " 'log_evaluate_word_pairs',\n",
       " 'mapfile_path',\n",
       " 'most_similar',\n",
       " 'most_similar_cosmul',\n",
       " 'most_similar_to_given',\n",
       " 'n_similarity',\n",
       " 'next_index',\n",
       " 'norms',\n",
       " 'rank',\n",
       " 'rank_by_centrality',\n",
       " 'relative_cosine_similarity',\n",
       " 'resize_vectors',\n",
       " 'save',\n",
       " 'save_word2vec_format',\n",
       " 'set_vecattr',\n",
       " 'similar_by_key',\n",
       " 'similar_by_vector',\n",
       " 'similar_by_word',\n",
       " 'similarity',\n",
       " 'similarity_unseen_docs',\n",
       " 'sort_by_descending_frequency',\n",
       " 'unit_normalize_all',\n",
       " 'vector_size',\n",
       " 'vectors',\n",
       " 'vectors_for_all',\n",
       " 'vectors_norm',\n",
       " 'vocab',\n",
       " 'wmdistance',\n",
       " 'word_vec',\n",
       " 'words_closer_than']"
      ]
     },
     "execution_count": 4,
     "metadata": {},
     "output_type": "execute_result"
    }
   ],
   "source": [
    "dir(wv)"
   ]
  },
  {
   "cell_type": "code",
   "execution_count": 5,
   "id": "28f53943-cf38-46c7-85d8-55ddca772a9d",
   "metadata": {},
   "outputs": [
    {
     "data": {
      "text/plain": [
       "[('kings', 0.7138045430183411),\n",
       " ('queen', 0.6510956883430481),\n",
       " ('monarch', 0.6413194537162781),\n",
       " ('crown_prince', 0.6204220056533813),\n",
       " ('prince', 0.6159993410110474),\n",
       " ('sultan', 0.5864824056625366),\n",
       " ('ruler', 0.5797567367553711),\n",
       " ('princes', 0.5646552443504333),\n",
       " ('Prince_Paras', 0.5432944297790527),\n",
       " ('throne', 0.5422105193138123)]"
      ]
     },
     "execution_count": 5,
     "metadata": {},
     "output_type": "execute_result"
    }
   ],
   "source": [
    "wv.most_similar(\"king\")"
   ]
  },
  {
   "cell_type": "code",
   "execution_count": 7,
   "id": "918bab25-1fa5-4504-aeab-d786db64c03c",
   "metadata": {},
   "outputs": [
    {
     "data": {
      "text/plain": [
       "[('title', 0.7454627752304077),\n",
       " ('crowns', 0.6589592695236206),\n",
       " ('championship', 0.6098790764808655),\n",
       " ('diadem', 0.5568988919258118),\n",
       " ('champs', 0.5511665344238281),\n",
       " ('trophy', 0.5505390763282776),\n",
       " ('champ', 0.5441424250602722),\n",
       " ('champion', 0.5352734327316284),\n",
       " ('wildcard_berth', 0.5186783075332642),\n",
       " ('title.The', 0.5139681696891785)]"
      ]
     },
     "execution_count": 7,
     "metadata": {},
     "output_type": "execute_result"
    }
   ],
   "source": [
    "wv.most_similar(\"crown\")"
   ]
  },
  {
   "cell_type": "code",
   "execution_count": 12,
   "id": "e4f016f1-7695-4d6a-9ef0-ca2ba54cbca8",
   "metadata": {},
   "outputs": [
    {
     "data": {
      "text/plain": [
       "'car'"
      ]
     },
     "execution_count": 12,
     "metadata": {},
     "output_type": "execute_result"
    }
   ],
   "source": [
    "wv.doesnt_match([\"cat\", \"dog\", \"horse\", \"car\"])"
   ]
  },
  {
   "cell_type": "markdown",
   "id": "0fc33e72-1e2d-453d-8980-d70459d8d74c",
   "metadata": {},
   "source": [
    "GENSIM > Using GloVe"
   ]
  },
  {
   "cell_type": "code",
   "execution_count": 13,
   "id": "dd637800-bdab-43cf-9b12-0745e0e822d0",
   "metadata": {},
   "outputs": [
    {
     "name": "stdout",
     "output_type": "stream",
     "text": [
      "[==================================================] 100.0% 104.8/104.8MB downloaded\n"
     ]
    }
   ],
   "source": [
    "glv = api.load(\"glove-twitter-25\")"
   ]
  },
  {
   "cell_type": "code",
   "execution_count": 14,
   "id": "13f22c46-56a1-422c-abf3-78b9af2680b7",
   "metadata": {},
   "outputs": [
    {
     "data": {
      "text/plain": [
       "[('front', 0.9365070462226868),\n",
       " ('on', 0.9070020914077759),\n",
       " ('table', 0.8939011693000793),\n",
       " ('truck', 0.8898833394050598),\n",
       " ('place', 0.8800072073936462),\n",
       " ('foot', 0.876794159412384),\n",
       " ('bus', 0.8759488463401794),\n",
       " ('train', 0.875607967376709),\n",
       " ('pull', 0.8720093369483948),\n",
       " ('seat', 0.866832971572876)]"
      ]
     },
     "execution_count": 14,
     "metadata": {},
     "output_type": "execute_result"
    }
   ],
   "source": [
    "glv.most_similar(\"car\")"
   ]
  },
  {
   "cell_type": "code",
   "execution_count": 20,
   "id": "fd1cf93c-4a00-42a9-bc96-877c15a76e3f",
   "metadata": {},
   "outputs": [
    {
     "data": {
      "text/plain": [
       "'sparrow'"
      ]
     },
     "execution_count": 20,
     "metadata": {},
     "output_type": "execute_result"
    }
   ],
   "source": [
    "glv.doesnt_match([\"cat\", \"dog\", \"horse\", \"sparrow\"])"
   ]
  },
  {
   "cell_type": "code",
   "execution_count": null,
   "id": "f3a8369f-76cb-4f7d-98a2-1d8e9e2105e5",
   "metadata": {},
   "outputs": [],
   "source": []
  }
 ],
 "metadata": {
  "kernelspec": {
   "display_name": "Python 3 (ipykernel)",
   "language": "python",
   "name": "python3"
  },
  "language_info": {
   "codemirror_mode": {
    "name": "ipython",
    "version": 3
   },
   "file_extension": ".py",
   "mimetype": "text/x-python",
   "name": "python",
   "nbconvert_exporter": "python",
   "pygments_lexer": "ipython3",
   "version": "3.10.16"
  }
 },
 "nbformat": 4,
 "nbformat_minor": 5
}

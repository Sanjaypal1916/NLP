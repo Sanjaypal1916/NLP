{
 "cells": [
  {
   "cell_type": "markdown",
   "id": "38b04829-f064-4c10-b769-9e739b363600",
   "metadata": {},
   "source": [
    "WORD_2_VECTOR"
   ]
  },
  {
   "cell_type": "code",
   "execution_count": 1,
   "id": "bc1582b8-caf6-44bc-b216-aa32875eef27",
   "metadata": {},
   "outputs": [],
   "source": [
    "import gensim.downloader as api"
   ]
  },
  {
   "cell_type": "code",
   "execution_count": null,
   "id": "33e9cae3-f525-42a4-81d8-2510a783d96e",
   "metadata": {},
   "outputs": [
    {
     "name": "stdout",
     "output_type": "stream",
     "text": [
      "[===-----------------------------------------------] 6.5% 108.8/1662.8MB downloaded"
     ]
    }
   ],
   "source": [
    "wv = api.load('word2vec-google-news-300')"
   ]
  },
  {
   "cell_type": "code",
   "execution_count": null,
   "id": "632b6387-3836-4c3f-b304-e163f674415e",
   "metadata": {},
   "outputs": [],
   "source": [
    "wv.similarity(\"bread\", \"sandwich\")"
   ]
  }
 ],
 "metadata": {
  "kernelspec": {
   "display_name": "Python 3 (ipykernel)",
   "language": "python",
   "name": "python3"
  },
  "language_info": {
   "codemirror_mode": {
    "name": "ipython",
    "version": 3
   },
   "file_extension": ".py",
   "mimetype": "text/x-python",
   "name": "python",
   "nbconvert_exporter": "python",
   "pygments_lexer": "ipython3",
   "version": "3.10.16"
  }
 },
 "nbformat": 4,
 "nbformat_minor": 5
}
